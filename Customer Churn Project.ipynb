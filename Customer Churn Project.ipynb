{
 "cells": [
  {
   "cell_type": "markdown",
   "id": "010fb76d",
   "metadata": {},
   "source": [
    "# CUSTOMER CHURN [CAPSTONE PROJECT]"
   ]
  },
  {
   "cell_type": "code",
   "execution_count": null,
   "id": "c737536c",
   "metadata": {},
   "outputs": [],
   "source": [
    "# Problem Statement:\n",
    "# You are the Data Scientist at a telecom company “Neo” whose customers are churning out to\n",
    "# its competitors. You have to analyse the data of your company and find insights and stop your\n",
    "# customers from churning out to other telecom companies.\n",
    "\n",
    "# Domain – Telecom"
   ]
  },
  {
   "cell_type": "code",
   "execution_count": 1,
   "id": "b3c7bbf6",
   "metadata": {},
   "outputs": [],
   "source": [
    "# Import required libraries\n",
    "import numpy as np\n",
    "import pandas as pd\n",
    "import matplotlib.pyplot as plt\n",
    "import seaborn as sns"
   ]
  },
  {
   "cell_type": "code",
   "execution_count": null,
   "id": "a91fe260",
   "metadata": {},
   "outputs": [],
   "source": [
    "# EDA (Exploratory Data Analysis)"
   ]
  },
  {
   "cell_type": "code",
   "execution_count": 2,
   "id": "d855705e",
   "metadata": {},
   "outputs": [],
   "source": [
    "df = pd.read_csv('customer_churn.csv')"
   ]
  },
  {
   "cell_type": "code",
   "execution_count": 3,
   "id": "026bafaa",
   "metadata": {},
   "outputs": [
    {
     "data": {
      "text/html": [
       "<div>\n",
       "<style scoped>\n",
       "    .dataframe tbody tr th:only-of-type {\n",
       "        vertical-align: middle;\n",
       "    }\n",
       "\n",
       "    .dataframe tbody tr th {\n",
       "        vertical-align: top;\n",
       "    }\n",
       "\n",
       "    .dataframe thead th {\n",
       "        text-align: right;\n",
       "    }\n",
       "</style>\n",
       "<table border=\"1\" class=\"dataframe\">\n",
       "  <thead>\n",
       "    <tr style=\"text-align: right;\">\n",
       "      <th></th>\n",
       "      <th>customerID</th>\n",
       "      <th>gender</th>\n",
       "      <th>SeniorCitizen</th>\n",
       "      <th>Partner</th>\n",
       "      <th>Dependents</th>\n",
       "      <th>tenure</th>\n",
       "      <th>PhoneService</th>\n",
       "      <th>MultipleLines</th>\n",
       "      <th>InternetService</th>\n",
       "      <th>OnlineSecurity</th>\n",
       "      <th>...</th>\n",
       "      <th>DeviceProtection</th>\n",
       "      <th>TechSupport</th>\n",
       "      <th>StreamingTV</th>\n",
       "      <th>StreamingMovies</th>\n",
       "      <th>Contract</th>\n",
       "      <th>PaperlessBilling</th>\n",
       "      <th>PaymentMethod</th>\n",
       "      <th>MonthlyCharges</th>\n",
       "      <th>TotalCharges</th>\n",
       "      <th>Churn</th>\n",
       "    </tr>\n",
       "  </thead>\n",
       "  <tbody>\n",
       "    <tr>\n",
       "      <th>0</th>\n",
       "      <td>7590-VHVEG</td>\n",
       "      <td>Female</td>\n",
       "      <td>0</td>\n",
       "      <td>Yes</td>\n",
       "      <td>No</td>\n",
       "      <td>1</td>\n",
       "      <td>No</td>\n",
       "      <td>No phone service</td>\n",
       "      <td>DSL</td>\n",
       "      <td>No</td>\n",
       "      <td>...</td>\n",
       "      <td>No</td>\n",
       "      <td>No</td>\n",
       "      <td>No</td>\n",
       "      <td>No</td>\n",
       "      <td>Month-to-month</td>\n",
       "      <td>Yes</td>\n",
       "      <td>Electronic check</td>\n",
       "      <td>29.85</td>\n",
       "      <td>29.85</td>\n",
       "      <td>No</td>\n",
       "    </tr>\n",
       "    <tr>\n",
       "      <th>1</th>\n",
       "      <td>5575-GNVDE</td>\n",
       "      <td>Male</td>\n",
       "      <td>0</td>\n",
       "      <td>No</td>\n",
       "      <td>No</td>\n",
       "      <td>34</td>\n",
       "      <td>Yes</td>\n",
       "      <td>No</td>\n",
       "      <td>DSL</td>\n",
       "      <td>Yes</td>\n",
       "      <td>...</td>\n",
       "      <td>Yes</td>\n",
       "      <td>No</td>\n",
       "      <td>No</td>\n",
       "      <td>No</td>\n",
       "      <td>One year</td>\n",
       "      <td>No</td>\n",
       "      <td>Mailed check</td>\n",
       "      <td>56.95</td>\n",
       "      <td>1889.5</td>\n",
       "      <td>No</td>\n",
       "    </tr>\n",
       "    <tr>\n",
       "      <th>2</th>\n",
       "      <td>3668-QPYBK</td>\n",
       "      <td>Male</td>\n",
       "      <td>0</td>\n",
       "      <td>No</td>\n",
       "      <td>No</td>\n",
       "      <td>2</td>\n",
       "      <td>Yes</td>\n",
       "      <td>No</td>\n",
       "      <td>DSL</td>\n",
       "      <td>Yes</td>\n",
       "      <td>...</td>\n",
       "      <td>No</td>\n",
       "      <td>No</td>\n",
       "      <td>No</td>\n",
       "      <td>No</td>\n",
       "      <td>Month-to-month</td>\n",
       "      <td>Yes</td>\n",
       "      <td>Mailed check</td>\n",
       "      <td>53.85</td>\n",
       "      <td>108.15</td>\n",
       "      <td>Yes</td>\n",
       "    </tr>\n",
       "    <tr>\n",
       "      <th>3</th>\n",
       "      <td>7795-CFOCW</td>\n",
       "      <td>Male</td>\n",
       "      <td>0</td>\n",
       "      <td>No</td>\n",
       "      <td>No</td>\n",
       "      <td>45</td>\n",
       "      <td>No</td>\n",
       "      <td>No phone service</td>\n",
       "      <td>DSL</td>\n",
       "      <td>Yes</td>\n",
       "      <td>...</td>\n",
       "      <td>Yes</td>\n",
       "      <td>Yes</td>\n",
       "      <td>No</td>\n",
       "      <td>No</td>\n",
       "      <td>One year</td>\n",
       "      <td>No</td>\n",
       "      <td>Bank transfer (automatic)</td>\n",
       "      <td>42.30</td>\n",
       "      <td>1840.75</td>\n",
       "      <td>No</td>\n",
       "    </tr>\n",
       "    <tr>\n",
       "      <th>4</th>\n",
       "      <td>9237-HQITU</td>\n",
       "      <td>Female</td>\n",
       "      <td>0</td>\n",
       "      <td>No</td>\n",
       "      <td>No</td>\n",
       "      <td>2</td>\n",
       "      <td>Yes</td>\n",
       "      <td>No</td>\n",
       "      <td>Fiber optic</td>\n",
       "      <td>No</td>\n",
       "      <td>...</td>\n",
       "      <td>No</td>\n",
       "      <td>No</td>\n",
       "      <td>No</td>\n",
       "      <td>No</td>\n",
       "      <td>Month-to-month</td>\n",
       "      <td>Yes</td>\n",
       "      <td>Electronic check</td>\n",
       "      <td>70.70</td>\n",
       "      <td>151.65</td>\n",
       "      <td>Yes</td>\n",
       "    </tr>\n",
       "    <tr>\n",
       "      <th>...</th>\n",
       "      <td>...</td>\n",
       "      <td>...</td>\n",
       "      <td>...</td>\n",
       "      <td>...</td>\n",
       "      <td>...</td>\n",
       "      <td>...</td>\n",
       "      <td>...</td>\n",
       "      <td>...</td>\n",
       "      <td>...</td>\n",
       "      <td>...</td>\n",
       "      <td>...</td>\n",
       "      <td>...</td>\n",
       "      <td>...</td>\n",
       "      <td>...</td>\n",
       "      <td>...</td>\n",
       "      <td>...</td>\n",
       "      <td>...</td>\n",
       "      <td>...</td>\n",
       "      <td>...</td>\n",
       "      <td>...</td>\n",
       "      <td>...</td>\n",
       "    </tr>\n",
       "    <tr>\n",
       "      <th>7038</th>\n",
       "      <td>6840-RESVB</td>\n",
       "      <td>Male</td>\n",
       "      <td>0</td>\n",
       "      <td>Yes</td>\n",
       "      <td>Yes</td>\n",
       "      <td>24</td>\n",
       "      <td>Yes</td>\n",
       "      <td>Yes</td>\n",
       "      <td>DSL</td>\n",
       "      <td>Yes</td>\n",
       "      <td>...</td>\n",
       "      <td>Yes</td>\n",
       "      <td>Yes</td>\n",
       "      <td>Yes</td>\n",
       "      <td>Yes</td>\n",
       "      <td>One year</td>\n",
       "      <td>Yes</td>\n",
       "      <td>Mailed check</td>\n",
       "      <td>84.80</td>\n",
       "      <td>1990.5</td>\n",
       "      <td>No</td>\n",
       "    </tr>\n",
       "    <tr>\n",
       "      <th>7039</th>\n",
       "      <td>2234-XADUH</td>\n",
       "      <td>Female</td>\n",
       "      <td>0</td>\n",
       "      <td>Yes</td>\n",
       "      <td>Yes</td>\n",
       "      <td>72</td>\n",
       "      <td>Yes</td>\n",
       "      <td>Yes</td>\n",
       "      <td>Fiber optic</td>\n",
       "      <td>No</td>\n",
       "      <td>...</td>\n",
       "      <td>Yes</td>\n",
       "      <td>No</td>\n",
       "      <td>Yes</td>\n",
       "      <td>Yes</td>\n",
       "      <td>One year</td>\n",
       "      <td>Yes</td>\n",
       "      <td>Credit card (automatic)</td>\n",
       "      <td>103.20</td>\n",
       "      <td>7362.9</td>\n",
       "      <td>No</td>\n",
       "    </tr>\n",
       "    <tr>\n",
       "      <th>7040</th>\n",
       "      <td>4801-JZAZL</td>\n",
       "      <td>Female</td>\n",
       "      <td>0</td>\n",
       "      <td>Yes</td>\n",
       "      <td>Yes</td>\n",
       "      <td>11</td>\n",
       "      <td>No</td>\n",
       "      <td>No phone service</td>\n",
       "      <td>DSL</td>\n",
       "      <td>Yes</td>\n",
       "      <td>...</td>\n",
       "      <td>No</td>\n",
       "      <td>No</td>\n",
       "      <td>No</td>\n",
       "      <td>No</td>\n",
       "      <td>Month-to-month</td>\n",
       "      <td>Yes</td>\n",
       "      <td>Electronic check</td>\n",
       "      <td>29.60</td>\n",
       "      <td>346.45</td>\n",
       "      <td>No</td>\n",
       "    </tr>\n",
       "    <tr>\n",
       "      <th>7041</th>\n",
       "      <td>8361-LTMKD</td>\n",
       "      <td>Male</td>\n",
       "      <td>1</td>\n",
       "      <td>Yes</td>\n",
       "      <td>No</td>\n",
       "      <td>4</td>\n",
       "      <td>Yes</td>\n",
       "      <td>Yes</td>\n",
       "      <td>Fiber optic</td>\n",
       "      <td>No</td>\n",
       "      <td>...</td>\n",
       "      <td>No</td>\n",
       "      <td>No</td>\n",
       "      <td>No</td>\n",
       "      <td>No</td>\n",
       "      <td>Month-to-month</td>\n",
       "      <td>Yes</td>\n",
       "      <td>Mailed check</td>\n",
       "      <td>74.40</td>\n",
       "      <td>306.6</td>\n",
       "      <td>Yes</td>\n",
       "    </tr>\n",
       "    <tr>\n",
       "      <th>7042</th>\n",
       "      <td>3186-AJIEK</td>\n",
       "      <td>Male</td>\n",
       "      <td>0</td>\n",
       "      <td>No</td>\n",
       "      <td>No</td>\n",
       "      <td>66</td>\n",
       "      <td>Yes</td>\n",
       "      <td>No</td>\n",
       "      <td>Fiber optic</td>\n",
       "      <td>Yes</td>\n",
       "      <td>...</td>\n",
       "      <td>Yes</td>\n",
       "      <td>Yes</td>\n",
       "      <td>Yes</td>\n",
       "      <td>Yes</td>\n",
       "      <td>Two year</td>\n",
       "      <td>Yes</td>\n",
       "      <td>Bank transfer (automatic)</td>\n",
       "      <td>105.65</td>\n",
       "      <td>6844.5</td>\n",
       "      <td>No</td>\n",
       "    </tr>\n",
       "  </tbody>\n",
       "</table>\n",
       "<p>7043 rows × 21 columns</p>\n",
       "</div>"
      ],
      "text/plain": [
       "      customerID  gender  SeniorCitizen Partner Dependents  tenure  \\\n",
       "0     7590-VHVEG  Female              0     Yes         No       1   \n",
       "1     5575-GNVDE    Male              0      No         No      34   \n",
       "2     3668-QPYBK    Male              0      No         No       2   \n",
       "3     7795-CFOCW    Male              0      No         No      45   \n",
       "4     9237-HQITU  Female              0      No         No       2   \n",
       "...          ...     ...            ...     ...        ...     ...   \n",
       "7038  6840-RESVB    Male              0     Yes        Yes      24   \n",
       "7039  2234-XADUH  Female              0     Yes        Yes      72   \n",
       "7040  4801-JZAZL  Female              0     Yes        Yes      11   \n",
       "7041  8361-LTMKD    Male              1     Yes         No       4   \n",
       "7042  3186-AJIEK    Male              0      No         No      66   \n",
       "\n",
       "     PhoneService     MultipleLines InternetService OnlineSecurity  ...  \\\n",
       "0              No  No phone service             DSL             No  ...   \n",
       "1             Yes                No             DSL            Yes  ...   \n",
       "2             Yes                No             DSL            Yes  ...   \n",
       "3              No  No phone service             DSL            Yes  ...   \n",
       "4             Yes                No     Fiber optic             No  ...   \n",
       "...           ...               ...             ...            ...  ...   \n",
       "7038          Yes               Yes             DSL            Yes  ...   \n",
       "7039          Yes               Yes     Fiber optic             No  ...   \n",
       "7040           No  No phone service             DSL            Yes  ...   \n",
       "7041          Yes               Yes     Fiber optic             No  ...   \n",
       "7042          Yes                No     Fiber optic            Yes  ...   \n",
       "\n",
       "     DeviceProtection TechSupport StreamingTV StreamingMovies        Contract  \\\n",
       "0                  No          No          No              No  Month-to-month   \n",
       "1                 Yes          No          No              No        One year   \n",
       "2                  No          No          No              No  Month-to-month   \n",
       "3                 Yes         Yes          No              No        One year   \n",
       "4                  No          No          No              No  Month-to-month   \n",
       "...               ...         ...         ...             ...             ...   \n",
       "7038              Yes         Yes         Yes             Yes        One year   \n",
       "7039              Yes          No         Yes             Yes        One year   \n",
       "7040               No          No          No              No  Month-to-month   \n",
       "7041               No          No          No              No  Month-to-month   \n",
       "7042              Yes         Yes         Yes             Yes        Two year   \n",
       "\n",
       "     PaperlessBilling              PaymentMethod MonthlyCharges  TotalCharges  \\\n",
       "0                 Yes           Electronic check          29.85         29.85   \n",
       "1                  No               Mailed check          56.95        1889.5   \n",
       "2                 Yes               Mailed check          53.85        108.15   \n",
       "3                  No  Bank transfer (automatic)          42.30       1840.75   \n",
       "4                 Yes           Electronic check          70.70        151.65   \n",
       "...               ...                        ...            ...           ...   \n",
       "7038              Yes               Mailed check          84.80        1990.5   \n",
       "7039              Yes    Credit card (automatic)         103.20        7362.9   \n",
       "7040              Yes           Electronic check          29.60        346.45   \n",
       "7041              Yes               Mailed check          74.40         306.6   \n",
       "7042              Yes  Bank transfer (automatic)         105.65        6844.5   \n",
       "\n",
       "     Churn  \n",
       "0       No  \n",
       "1       No  \n",
       "2      Yes  \n",
       "3       No  \n",
       "4      Yes  \n",
       "...    ...  \n",
       "7038    No  \n",
       "7039    No  \n",
       "7040    No  \n",
       "7041   Yes  \n",
       "7042    No  \n",
       "\n",
       "[7043 rows x 21 columns]"
      ]
     },
     "execution_count": 3,
     "metadata": {},
     "output_type": "execute_result"
    }
   ],
   "source": [
    "df"
   ]
  },
  {
   "cell_type": "code",
   "execution_count": 5,
   "id": "c196251f",
   "metadata": {},
   "outputs": [
    {
     "data": {
      "text/plain": [
       "customerID          0\n",
       "gender              0\n",
       "SeniorCitizen       0\n",
       "Partner             0\n",
       "Dependents          0\n",
       "tenure              0\n",
       "PhoneService        0\n",
       "MultipleLines       0\n",
       "InternetService     0\n",
       "OnlineSecurity      0\n",
       "OnlineBackup        0\n",
       "DeviceProtection    0\n",
       "TechSupport         0\n",
       "StreamingTV         0\n",
       "StreamingMovies     0\n",
       "Contract            0\n",
       "PaperlessBilling    0\n",
       "PaymentMethod       0\n",
       "MonthlyCharges      0\n",
       "TotalCharges        0\n",
       "Churn               0\n",
       "dtype: int64"
      ]
     },
     "execution_count": 5,
     "metadata": {},
     "output_type": "execute_result"
    }
   ],
   "source": [
    "#  Checking NULL values are present or not\n",
    "df.isnull().sum()"
   ]
  },
  {
   "cell_type": "markdown",
   "id": "6d2641e7",
   "metadata": {},
   "source": [
    "## A) Data Manipulation:"
   ]
  },
  {
   "cell_type": "code",
   "execution_count": 7,
   "id": "a24e1444",
   "metadata": {},
   "outputs": [
    {
     "name": "stdout",
     "output_type": "stream",
     "text": [
      "0        No\n",
      "1        No\n",
      "2        No\n",
      "3        No\n",
      "4        No\n",
      "       ... \n",
      "7038    Yes\n",
      "7039    Yes\n",
      "7040    Yes\n",
      "7041     No\n",
      "7042     No\n",
      "Name: Dependents, Length: 7043, dtype: object\n"
     ]
    }
   ],
   "source": [
    "# a. Extract the 5th column & store it in ‘customer_5’\n",
    "customer_5 = df.iloc[:,4]\n",
    "print(customer_5)"
   ]
  },
  {
   "cell_type": "code",
   "execution_count": 8,
   "id": "1b997c7c",
   "metadata": {
    "scrolled": true
   },
   "outputs": [
    {
     "name": "stdout",
     "output_type": "stream",
     "text": [
      "0        No\n",
      "1        No\n",
      "2        No\n",
      "3        No\n",
      "4        No\n",
      "       ... \n",
      "7038    Yes\n",
      "7039    Yes\n",
      "7040     No\n",
      "7041     No\n",
      "7042    Yes\n",
      "Name: StreamingMovies, Length: 7043, dtype: object\n"
     ]
    }
   ],
   "source": [
    "# b. Extract the 15th column & store it in ‘customer_15’\n",
    "customer_15 = df.iloc[:,14]\n",
    "print(customer_15)"
   ]
  },
  {
   "cell_type": "code",
   "execution_count": 11,
   "id": "9c9d1255",
   "metadata": {},
   "outputs": [
    {
     "name": "stdout",
     "output_type": "stream",
     "text": [
      "      customerID gender  SeniorCitizen Partner Dependents  tenure  \\\n",
      "20    8779-QRDMV   Male              1      No         No       1   \n",
      "55    1658-BYGOY   Male              1      No         No      18   \n",
      "57    5067-XJQFU   Male              1     Yes        Yes      66   \n",
      "78    0191-ZHSKZ   Male              1      No         No      30   \n",
      "91    2424-WVHPL   Male              1      No         No       1   \n",
      "...          ...    ...            ...     ...        ...     ...   \n",
      "6837  6229-LSCKB   Male              1      No         No       6   \n",
      "6894  1400-MMYXY   Male              1     Yes         No       3   \n",
      "6914  7142-HVGBG   Male              1     Yes         No      43   \n",
      "6967  8739-WWKDU   Male              1      No         No      25   \n",
      "7032  6894-LFHLY   Male              1      No         No       1   \n",
      "\n",
      "     PhoneService     MultipleLines InternetService OnlineSecurity  ...  \\\n",
      "20             No  No phone service             DSL             No  ...   \n",
      "55            Yes               Yes     Fiber optic             No  ...   \n",
      "57            Yes               Yes     Fiber optic             No  ...   \n",
      "78            Yes                No             DSL            Yes  ...   \n",
      "91            Yes                No     Fiber optic             No  ...   \n",
      "...           ...               ...             ...            ...  ...   \n",
      "6837          Yes                No     Fiber optic             No  ...   \n",
      "6894          Yes               Yes     Fiber optic             No  ...   \n",
      "6914          Yes               Yes     Fiber optic             No  ...   \n",
      "6967          Yes               Yes     Fiber optic             No  ...   \n",
      "7032          Yes               Yes     Fiber optic             No  ...   \n",
      "\n",
      "     DeviceProtection TechSupport StreamingTV StreamingMovies        Contract  \\\n",
      "20                Yes          No          No             Yes  Month-to-month   \n",
      "55                 No          No         Yes             Yes  Month-to-month   \n",
      "57                Yes         Yes         Yes             Yes        One year   \n",
      "78                 No          No         Yes             Yes  Month-to-month   \n",
      "91                 No         Yes          No              No  Month-to-month   \n",
      "...               ...         ...         ...             ...             ...   \n",
      "6837               No          No         Yes              No  Month-to-month   \n",
      "6894              Yes          No         Yes             Yes  Month-to-month   \n",
      "6914              Yes          No         Yes             Yes  Month-to-month   \n",
      "6967               No          No         Yes              No  Month-to-month   \n",
      "7032               No          No          No              No  Month-to-month   \n",
      "\n",
      "     PaperlessBilling     PaymentMethod MonthlyCharges  TotalCharges Churn  \n",
      "20                Yes  Electronic check          39.65         39.65   Yes  \n",
      "55                Yes  Electronic check          95.45       1752.55   Yes  \n",
      "57                Yes  Electronic check         108.45       7076.35    No  \n",
      "78                Yes  Electronic check          74.75        2111.3    No  \n",
      "91                 No  Electronic check          74.70          74.7    No  \n",
      "...               ...               ...            ...           ...   ...  \n",
      "6837              Yes  Electronic check          79.70         497.6    No  \n",
      "6894              Yes  Electronic check         105.90        334.65   Yes  \n",
      "6914              Yes  Electronic check         103.00        4414.3   Yes  \n",
      "6967              Yes  Electronic check          89.50       2196.15   Yes  \n",
      "7032              Yes  Electronic check          75.75         75.75   Yes  \n",
      "\n",
      "[298 rows x 21 columns]\n"
     ]
    }
   ],
   "source": [
    "# c. Extract all the male senior citizens whose Payment Method is Electronic check &\n",
    "# store the result in ‘senior_male_electronic’\n",
    "\n",
    "senior_male_electronic = df[(df['gender']=='Male') & (df['SeniorCitizen']>=1) & (df['PaymentMethod']=='Electronic check')]\n",
    "print(senior_male_electronic)\n"
   ]
  },
  {
   "cell_type": "code",
   "execution_count": 13,
   "id": "7212a664",
   "metadata": {},
   "outputs": [
    {
     "name": "stdout",
     "output_type": "stream",
     "text": [
      "      customerID  gender  SeniorCitizen Partner Dependents  tenure  \\\n",
      "8     7892-POOKP  Female              0     Yes         No      28   \n",
      "12    8091-TTVAX    Male              0     Yes         No      58   \n",
      "13    0280-XJGEX    Male              0      No         No      49   \n",
      "14    5129-JLPIS    Male              0      No         No      25   \n",
      "15    3655-SNQYZ  Female              0     Yes        Yes      69   \n",
      "...          ...     ...            ...     ...        ...     ...   \n",
      "7023  1035-IPQPU  Female              1     Yes         No      63   \n",
      "7034  0639-TSIQW  Female              0      No         No      67   \n",
      "7037  2569-WGERO  Female              0      No         No      72   \n",
      "7039  2234-XADUH  Female              0     Yes        Yes      72   \n",
      "7042  3186-AJIEK    Male              0      No         No      66   \n",
      "\n",
      "     PhoneService MultipleLines InternetService       OnlineSecurity  ...  \\\n",
      "8             Yes           Yes     Fiber optic                   No  ...   \n",
      "12            Yes           Yes     Fiber optic                   No  ...   \n",
      "13            Yes           Yes     Fiber optic                   No  ...   \n",
      "14            Yes            No     Fiber optic                  Yes  ...   \n",
      "15            Yes           Yes     Fiber optic                  Yes  ...   \n",
      "...           ...           ...             ...                  ...  ...   \n",
      "7023          Yes           Yes     Fiber optic                   No  ...   \n",
      "7034          Yes           Yes     Fiber optic                  Yes  ...   \n",
      "7037          Yes            No              No  No internet service  ...   \n",
      "7039          Yes           Yes     Fiber optic                   No  ...   \n",
      "7042          Yes            No     Fiber optic                  Yes  ...   \n",
      "\n",
      "         DeviceProtection          TechSupport          StreamingTV  \\\n",
      "8                     Yes                  Yes                  Yes   \n",
      "12                    Yes                   No                  Yes   \n",
      "13                    Yes                   No                  Yes   \n",
      "14                    Yes                  Yes                  Yes   \n",
      "15                    Yes                  Yes                  Yes   \n",
      "...                   ...                  ...                  ...   \n",
      "7023                  Yes                   No                  Yes   \n",
      "7034                  Yes                   No                  Yes   \n",
      "7037  No internet service  No internet service  No internet service   \n",
      "7039                  Yes                   No                  Yes   \n",
      "7042                  Yes                  Yes                  Yes   \n",
      "\n",
      "          StreamingMovies        Contract PaperlessBilling  \\\n",
      "8                     Yes  Month-to-month              Yes   \n",
      "12                    Yes        One year               No   \n",
      "13                    Yes  Month-to-month              Yes   \n",
      "14                    Yes  Month-to-month              Yes   \n",
      "15                    Yes        Two year               No   \n",
      "...                   ...             ...              ...   \n",
      "7023                  Yes  Month-to-month              Yes   \n",
      "7034                   No  Month-to-month              Yes   \n",
      "7037  No internet service        Two year              Yes   \n",
      "7039                  Yes        One year              Yes   \n",
      "7042                  Yes        Two year              Yes   \n",
      "\n",
      "                  PaymentMethod MonthlyCharges  TotalCharges Churn  \n",
      "8              Electronic check         104.80       3046.05   Yes  \n",
      "12      Credit card (automatic)         100.35        5681.1    No  \n",
      "13    Bank transfer (automatic)         103.70        5036.3   Yes  \n",
      "14             Electronic check         105.50       2686.05    No  \n",
      "15      Credit card (automatic)         113.25       7895.15    No  \n",
      "...                         ...            ...           ...   ...  \n",
      "7023           Electronic check         103.50        6479.4    No  \n",
      "7034    Credit card (automatic)         102.95       6886.25   Yes  \n",
      "7037  Bank transfer (automatic)          21.15        1419.4    No  \n",
      "7039    Credit card (automatic)         103.20        7362.9    No  \n",
      "7042  Bank transfer (automatic)         105.65        6844.5    No  \n",
      "\n",
      "[1259 rows x 21 columns]\n"
     ]
    }
   ],
   "source": [
    "# d. Extract all those customers whose tenure is greater than 70 months or their\n",
    "# Monthly charges is more than 100$ & store the result in ‘customer_total_tenure’\n",
    "\n",
    "customer_total_tenure = df[(df['tenure']>70) | (df['MonthlyCharges']>100)]\n",
    "print(customer_total_tenure)\n"
   ]
  },
  {
   "cell_type": "code",
   "execution_count": 14,
   "id": "55a304e2",
   "metadata": {},
   "outputs": [
    {
     "name": "stdout",
     "output_type": "stream",
     "text": [
      "      customerID  gender  SeniorCitizen Partner Dependents  tenure  \\\n",
      "268   6323-AYBRX    Male              0      No         No      59   \n",
      "5947  7951-QKZPL  Female              0     Yes        Yes      33   \n",
      "6680  9412-ARGBX  Female              0      No        Yes      48   \n",
      "\n",
      "     PhoneService MultipleLines InternetService       OnlineSecurity  ...  \\\n",
      "268           Yes            No              No  No internet service  ...   \n",
      "5947          Yes           Yes              No  No internet service  ...   \n",
      "6680          Yes            No     Fiber optic                   No  ...   \n",
      "\n",
      "         DeviceProtection          TechSupport          StreamingTV  \\\n",
      "268   No internet service  No internet service  No internet service   \n",
      "5947  No internet service  No internet service  No internet service   \n",
      "6680                  Yes                  Yes                  Yes   \n",
      "\n",
      "          StreamingMovies  Contract PaperlessBilling PaymentMethod  \\\n",
      "268   No internet service  Two year               No  Mailed check   \n",
      "5947  No internet service  Two year              Yes  Mailed check   \n",
      "6680                   No  Two year              Yes  Mailed check   \n",
      "\n",
      "     MonthlyCharges  TotalCharges Churn  \n",
      "268           19.35        1099.6   Yes  \n",
      "5947          24.50         740.3   Yes  \n",
      "6680          95.50       4627.85   Yes  \n",
      "\n",
      "[3 rows x 21 columns]\n"
     ]
    }
   ],
   "source": [
    "# e. Extract all the customers whose Contract is of two years, payment method is Mailed\n",
    "# check & the value of Churn is ‘Yes’ & store the result in ‘two_mail_yes’\n",
    "\n",
    "two_mail_yes = df[(df['Contract']=='Two year') & (df['PaymentMethod']=='Mailed check') & (df['Churn']=='Yes')]\n",
    "print(two_mail_yes)\n",
    "# Here, I have used the & operator to combine the three conditions and extract the relevant rows from the DataFrame df. \n",
    "# The resulting DataFrame two_mail_yes will contain only those rows where the Contract is of two years, payment method is\n",
    "# Mailed check, and the value of Churn is ‘Yes’.\n"
   ]
  },
  {
   "cell_type": "code",
   "execution_count": 15,
   "id": "e5acf825",
   "metadata": {},
   "outputs": [
    {
     "name": "stdout",
     "output_type": "stream",
     "text": [
      "      customerID  gender  SeniorCitizen Partner Dependents  tenure  \\\n",
      "1339  3838-OZURD    Male              0     Yes         No      66   \n",
      "4697  0129-KPTWJ    Male              0     Yes         No      72   \n",
      "2449  1357-MVDOZ    Male              0     Yes        Yes      11   \n",
      "6336  8647-SDTWQ    Male              0     Yes        Yes      57   \n",
      "4162  0769-MURVM  Female              0     Yes        Yes      72   \n",
      "...          ...     ...            ...     ...        ...     ...   \n",
      "147   2135-RXIHG    Male              0      No         No       1   \n",
      "1975  4703-MQYKT    Male              0      No         No      21   \n",
      "6117  3308-DGHKL    Male              0      No         No      69   \n",
      "1324  0031-PVLZI  Female              0     Yes        Yes       4   \n",
      "5879  6603-YRDCJ    Male              0     Yes         No      33   \n",
      "\n",
      "     PhoneService     MultipleLines InternetService       OnlineSecurity  ...  \\\n",
      "1339          Yes               Yes     Fiber optic                   No  ...   \n",
      "4697          Yes                No     Fiber optic                   No  ...   \n",
      "2449          Yes                No             DSL                   No  ...   \n",
      "6336          Yes               Yes     Fiber optic                   No  ...   \n",
      "4162           No  No phone service             DSL                  Yes  ...   \n",
      "...           ...               ...             ...                  ...  ...   \n",
      "147           Yes                No             DSL                   No  ...   \n",
      "1975          Yes                No              No  No internet service  ...   \n",
      "6117          Yes                No              No  No internet service  ...   \n",
      "1324          Yes                No              No  No internet service  ...   \n",
      "5879          Yes                No             DSL                  Yes  ...   \n",
      "\n",
      "         DeviceProtection          TechSupport          StreamingTV  \\\n",
      "1339                  Yes                   No                  Yes   \n",
      "4697                  Yes                   No                  Yes   \n",
      "2449                  Yes                   No                  Yes   \n",
      "6336                   No                   No                   No   \n",
      "4162                  Yes                  Yes                  Yes   \n",
      "...                   ...                  ...                  ...   \n",
      "147                    No                   No                   No   \n",
      "1975  No internet service  No internet service  No internet service   \n",
      "6117  No internet service  No internet service  No internet service   \n",
      "1324  No internet service  No internet service  No internet service   \n",
      "5879                   No                  Yes                   No   \n",
      "\n",
      "          StreamingMovies        Contract PaperlessBilling  \\\n",
      "1339                  Yes  Month-to-month              Yes   \n",
      "4697                  Yes  Month-to-month              Yes   \n",
      "2449                   No  Month-to-month              Yes   \n",
      "6336                   No  Month-to-month              Yes   \n",
      "4162                  Yes        Two year               No   \n",
      "...                   ...             ...              ...   \n",
      "147                    No  Month-to-month              Yes   \n",
      "1975  No internet service        Two year               No   \n",
      "6117  No internet service        Two year              Yes   \n",
      "1324  No internet service  Month-to-month               No   \n",
      "5879                   No        Two year              Yes   \n",
      "\n",
      "                  PaymentMethod MonthlyCharges  TotalCharges Churn  \n",
      "1339    Credit card (automatic)         105.00       7133.25   Yes  \n",
      "4697           Electronic check          94.65       6747.35    No  \n",
      "2449  Bank transfer (automatic)          59.65        683.25    No  \n",
      "6336           Electronic check          74.30       4018.35    No  \n",
      "4162  Bank transfer (automatic)          65.70       4575.35    No  \n",
      "...                         ...            ...           ...   ...  \n",
      "147            Electronic check          45.65         45.65   Yes  \n",
      "1975               Mailed check          19.60         390.4    No  \n",
      "6117  Bank transfer (automatic)          19.30        1447.9    No  \n",
      "1324               Mailed check          20.35         76.35   Yes  \n",
      "5879               Mailed check          61.05        2018.4    No  \n",
      "\n",
      "[333 rows x 21 columns]\n"
     ]
    }
   ],
   "source": [
    "# f. Extract 333 random records from the customer_churndataframe & store the result in\n",
    "# ‘customer_333’\n",
    "\n",
    "customer_333=df.sample(n=333)\n",
    "print(customer_333)"
   ]
  },
  {
   "cell_type": "code",
   "execution_count": 16,
   "id": "1f337e1c",
   "metadata": {},
   "outputs": [
    {
     "name": "stdout",
     "output_type": "stream",
     "text": [
      "No     5174\n",
      "Yes    1869\n",
      "Name: Churn, dtype: int64\n"
     ]
    }
   ],
   "source": [
    "# g. Get the count of different levels from the ‘Churn’ column\n",
    "churn_count = df['Churn'].value_counts()\n",
    "print(churn_count)"
   ]
  },
  {
   "cell_type": "markdown",
   "id": "a3474ddb",
   "metadata": {},
   "source": [
    "## B) Data Visualization:"
   ]
  },
  {
   "cell_type": "code",
   "execution_count": null,
   "id": "47a4947d",
   "metadata": {},
   "outputs": [],
   "source": [
    "# a. Build a bar-plot for the ’InternetService’ column:\n",
    "# i. Set x-axis label to ‘Categories of Internet Service’\n",
    "# ii. Set y-axis label to ‘Count of Categories’\n",
    "# iii. Set the title of plot to be ‘Distribution of Internet Service’\n",
    "# iv. Set the color of the bars to be ‘orange’\n"
   ]
  },
  {
   "cell_type": "code",
   "execution_count": 18,
   "id": "15c615a1",
   "metadata": {},
   "outputs": [
    {
     "data": {
      "image/png": "[encoded data removed]",
      "text/plain": [
       "<Figure size 432x288 with 1 Axes>"
      ]
     },
     "metadata": {
      "needs_background": "light"
     },
     "output_type": "display_data"
    }
   ],
   "source": [
    "# create a bar plot\n",
    "sns.countplot(x='InternetService', data=df, color='orange')\n",
    "\n",
    "# set x-axis label\n",
    "plt.xlabel('Categories of Internet Service')\n",
    "\n",
    "# set y-axis label\n",
    "plt.ylabel('Count of Categories')\n",
    "\n",
    "# set plot title\n",
    "plt.title('Distribution of Internet Service')\n",
    "\n",
    "# show the plot\n",
    "plt.show()\n"
   ]
  },
  {
   "cell_type": "code",
   "execution_count": null,
   "id": "9e23f9cd",
   "metadata": {},
   "outputs": [],
   "source": [
    "# b. Build a histogram for the ‘tenure’ column:\n",
    "# i. Set the number of bins to be 30\n",
    "# ii. Set the color of the bins to be ‘green’\n",
    "# iii. Assign the title ‘Distribution of tenure’"
   ]
  },
  {
   "cell_type": "code",
   "execution_count": 20,
   "id": "9c849718",
   "metadata": {},
   "outputs": [
    {
     "data": {
      "image/png": "[encoded data removed]",
      "text/plain": [
       "<Figure size 432x288 with 1 Axes>"
      ]
     },
     "metadata": {
      "needs_background": "light"
     },
     "output_type": "display_data"
    }
   ],
   "source": [
    "# set the number of bins to 30\n",
    "num_bins = 30\n",
    "\n",
    "# set the color of the bins to green\n",
    "color = 'green'\n",
    "\n",
    "# create the histogram\n",
    "plt.hist(df['tenure'], bins=num_bins, color=color)\n",
    "\n",
    "# set the title of the histogram\n",
    "plt.title('Distribution of tenure')\n",
    "\n",
    "# show the plot\n",
    "plt.show()\n"
   ]
  },
  {
   "cell_type": "code",
   "execution_count": null,
   "id": "c86c7cbf",
   "metadata": {},
   "outputs": [],
   "source": [
    "# c. Build a scatter-plot between ‘MonthlyCharges’ & ‘tenure’. Map ‘MonthlyCharges’ to\n",
    "# the y-axis & ‘tenure’ to the ‘x-axis’:\n",
    "# i. Assign the points a color of ‘brown’\n",
    "# ii. Set the x-axis label to ‘Tenure of customer’\n",
    "# iii. Set the y-axis label to ‘Monthly Charges of customer’\n",
    "# iv. Set the title to ‘Tenure vs Monthly Charges’"
   ]
  },
  {
   "cell_type": "code",
   "execution_count": 21,
   "id": "ba036c30",
   "metadata": {},
   "outputs": [
    {
     "data": {
      "image/png": "[encoded data removed]",
      "text/plain": [
       "<Figure size 432x288 with 1 Axes>"
      ]
     },
     "metadata": {
      "needs_background": "light"
     },
     "output_type": "display_data"
    }
   ],
   "source": [
    "\n",
    "plt.scatter(df['tenure'], df['MonthlyCharges'], color='brown')\n",
    "plt.xlabel('Tenure of customer')\n",
    "plt.ylabel('Monthly Charges of customer')\n",
    "plt.title('Tenure vs Monthly Charges')\n",
    "plt.show()\n"
   ]
  },
  {
   "cell_type": "code",
   "execution_count": null,
   "id": "1645c7e7",
   "metadata": {},
   "outputs": [],
   "source": [
    "# d. Build a box-plot between ‘tenure’ & ‘Contract’. Map ‘tenure’ on the y-axis &\n",
    "# ‘Contract’ on the x-axis."
   ]
  },
  {
   "cell_type": "code",
   "execution_count": 22,
   "id": "e838721e",
   "metadata": {
    "scrolled": true
   },
   "outputs": [
    {
     "data": {
      "image/png": "[encoded data removed]",
      "text/plain": [
       "<Figure size 432x288 with 1 Axes>"
      ]
     },
     "metadata": {
      "needs_background": "light"
     },
     "output_type": "display_data"
    }
   ],
   "source": [
    "sns.boxplot(x='Contract', y='tenure', data=df)\n",
    "plt.title('Tenure vs Contract')\n",
    "plt.xlabel('Contract type')\n",
    "plt.ylabel('Tenure')\n",
    "plt.show()"
   ]
  },
  {
   "cell_type": "markdown",
   "id": "00727de4",
   "metadata": {},
   "source": [
    "# Model Implementation\n",
    "\n",
    "## C) Linear Regression:"
   ]
  },
  {
   "cell_type": "code",
   "execution_count": null,
   "id": "df6b8c4a",
   "metadata": {},
   "outputs": [],
   "source": [
    "# a. Build a simple linear model where dependent variable is ‘MonthlyCharges’ and\n",
    "# independent variable is ‘tenure’\n",
    "# i. Divide the dataset into train and test sets in 70:30 ratio.\n",
    "# ii. Build the model on train set and predict the values on test set\n",
    "# iii. After predicting the values, find the root mean square error\n",
    "# iv. Find out the error in prediction & store the result in ‘error’\n",
    "# v. Find the root mean square error"
   ]
  },
  {
   "cell_type": "code",
   "execution_count": 23,
   "id": "dd23379f",
   "metadata": {},
   "outputs": [],
   "source": [
    "#  Import necessary libraries\n",
    "from sklearn.linear_model import LinearRegression\n",
    "from sklearn.model_selection import train_test_split\n",
    "from sklearn.metrics import mean_squared_error"
   ]
  },
  {
   "cell_type": "code",
   "execution_count": 29,
   "id": "db88d0b7",
   "metadata": {},
   "outputs": [],
   "source": [
    "# X is a Independent Variable ==> tenure\n",
    "# Y is a Dependent Variable ==> MonthlyCharges\n",
    "\n",
    "# Let's define the Dependent & Independent Variables\n",
    "X = df[['tenure']]\n",
    "Y = df[['MonthlyCharges']]"
   ]
  },
  {
   "cell_type": "code",
   "execution_count": 30,
   "id": "6014424a",
   "metadata": {},
   "outputs": [],
   "source": [
    "# Divide the dataset into train and test sets in a 70:30 ratio:\n",
    "X_train, X_test, Y_train, Y_test = train_test_split(X, Y, test_size=0.3, random_state=0)"
   ]
  },
  {
   "cell_type": "code",
   "execution_count": 33,
   "id": "0b4b8f99",
   "metadata": {},
   "outputs": [
    {
     "data": {
      "text/plain": [
       "LinearRegression()"
      ]
     },
     "execution_count": 33,
     "metadata": {},
     "output_type": "execute_result"
    }
   ],
   "source": [
    "# Training the linear regression model on the training set:\n",
    "LinearModel = LinearRegression()\n",
    "\n",
    "LinearModel.fit(X_train, Y_train)"
   ]
  },
  {
   "cell_type": "code",
   "execution_count": 37,
   "id": "b46f1631",
   "metadata": {},
   "outputs": [
    {
     "data": {
      "text/plain": [
       "array([[60.95089608],\n",
       "       [72.98096699],\n",
       "       [59.1903979 ],\n",
       "       ...,\n",
       "       [75.62171426],\n",
       "       [70.63363608],\n",
       "       [65.6455579 ]])"
      ]
     },
     "execution_count": 37,
     "metadata": {},
     "output_type": "execute_result"
    }
   ],
   "source": [
    "# Predicting the values on the test set\n",
    "LinearModel_Predict = LinearModel.predict(X_test)\n",
    "\n",
    "LinearModel_Predict"
   ]
  },
  {
   "cell_type": "code",
   "execution_count": 43,
   "id": "216bc76e",
   "metadata": {},
   "outputs": [],
   "source": [
    "# Finding the root mean square error\n",
    "\n",
    "error = np.sqrt(mean_squared_error(Y_test, LinearModel_Predict))"
   ]
  },
  {
   "cell_type": "code",
   "execution_count": 45,
   "id": "2ef8b04b",
   "metadata": {},
   "outputs": [
    {
     "name": "stdout",
     "output_type": "stream",
     "text": [
      "Root Mean Squared Error:  29.394584027273893\n"
     ]
    }
   ],
   "source": [
    "# Printing the Error\n",
    "\n",
    "print(\"Root Mean Squared Error: \", error)"
   ]
  },
  {
   "cell_type": "markdown",
   "id": "715ae406",
   "metadata": {},
   "source": [
    "## D) Logistic Regression:"
   ]
  },
  {
   "cell_type": "code",
   "execution_count": null,
   "id": "f80d0a9e",
   "metadata": {},
   "outputs": [],
   "source": [
    "# a. Build a simple logistic regression model where dependent variable is ‘Churn’ &\n",
    "# independent variable is ‘MonthlyCharges’\n",
    "# i. Divide the dataset in 65:35 ratio\n",
    "# ii. Build the model on train set and predict the values on test set\n",
    "# iii. Build the confusion matrix and get the accuracy score"
   ]
  },
  {
   "cell_type": "code",
   "execution_count": 66,
   "id": "93f36e60",
   "metadata": {},
   "outputs": [],
   "source": [
    "#  Import necessary libraries\n",
    "from sklearn.linear_model import LogisticRegression\n",
    "from sklearn.model_selection import train_test_split\n",
    "from sklearn.metrics import confusion_matrix, accuracy_score"
   ]
  },
  {
   "cell_type": "code",
   "execution_count": 67,
   "id": "09d110a4",
   "metadata": {},
   "outputs": [],
   "source": [
    "# X is an Independent Variable as \"MonthlyCharges\"\n",
    "# Y is an Dependent Variable as \"Churn\"\n",
    "\n",
    "# Define the variables\n",
    "X = df[['MonthlyCharges']]\n",
    "Y = df[['Churn']]"
   ]
  },
  {
   "cell_type": "code",
   "execution_count": 68,
   "id": "4ae8f2d3",
   "metadata": {},
   "outputs": [],
   "source": [
    "# Divide the dataset into train and test set in 65:35 ratio\n",
    "X_train, X_test, Y_train, Y_test = train_test_split(X,Y, test_size = 0.35, random_state = 0)"
   ]
  },
  {
   "cell_type": "code",
   "execution_count": 70,
   "id": "0754adbd",
   "metadata": {},
   "outputs": [
    {
     "data": {
      "text/plain": [
       "LogisticRegression()"
      ]
     },
     "execution_count": 70,
     "metadata": {},
     "output_type": "execute_result"
    }
   ],
   "source": [
    "# Training the Logistic regression model on the training set:\n",
    "LogisticModel = LogisticRegression()\n",
    "LogisticModel.fit(X_train, Y_train.values.ravel())"
   ]
  },
  {
   "cell_type": "code",
   "execution_count": 74,
   "id": "fb1ba084",
   "metadata": {},
   "outputs": [
    {
     "data": {
      "text/plain": [
       "array(['No', 'No', 'No', ..., 'No', 'No', 'No'], dtype=object)"
      ]
     },
     "execution_count": 74,
     "metadata": {},
     "output_type": "execute_result"
    }
   ],
   "source": [
    "# Predicting the values on the test set    \n",
    "LRM_Predict = LogisticModel.predict(X_test)      # LRM stands for Logistic Regression Model\n",
    "\n",
    "LRM_Predict"
   ]
  },
  {
   "cell_type": "code",
   "execution_count": 75,
   "id": "ec6c6df0",
   "metadata": {},
   "outputs": [],
   "source": [
    "# Time to build CONFUSION MATRIX And get the ACCURACY SCORE\n",
    "CM = confusion_matrix(Y_test, LRM_Predict)\n",
    "Accuracy = accuracy_score(Y_test, LRM_Predict)\n"
   ]
  },
  {
   "cell_type": "code",
   "execution_count": 77,
   "id": "37c2300b",
   "metadata": {},
   "outputs": [
    {
     "name": "stdout",
     "output_type": "stream",
     "text": [
      "Confusion Matrix: \n",
      "[[1815    0]\n",
      " [ 651    0]]\n",
      "Accuracy Score: \n",
      "0.7360097323600974\n"
     ]
    }
   ],
   "source": [
    "# Print CONFUSION MATRIX & ACCURACY SCORE\n",
    "\n",
    "print(\"Confusion Matrix: \")\n",
    "print(CM)\n",
    "print(\"Accuracy Score: \")\n",
    "print(Accuracy)"
   ]
  },
  {
   "cell_type": "code",
   "execution_count": 78,
   "id": "11cb74d3",
   "metadata": {},
   "outputs": [],
   "source": [
    "# b. Build a multiple logistic regression model where dependent variable is ‘Churn’ &\n",
    "# independent variables are ‘tenure’ & ‘MonthlyCharges’\n",
    "# i. Divide the dataset in 80:20 ratio\n",
    "# ii. Build the model on train set and predict the values on test set\n",
    "# iii. Build the confusion matrix and get the accuracy score"
   ]
  },
  {
   "cell_type": "code",
   "execution_count": 79,
   "id": "8925aff2",
   "metadata": {},
   "outputs": [
    {
     "name": "stdout",
     "output_type": "stream",
     "text": [
      "Confusion Matrix:\n",
      " [[944  92]\n",
      " [193 180]]\n",
      "Accuracy Score: 0.7977288857345636\n"
     ]
    }
   ],
   "source": [
    "# Import necessary libraries\n",
    "import pandas as pd\n",
    "from sklearn.model_selection import train_test_split\n",
    "from sklearn.linear_model import LogisticRegression\n",
    "from sklearn.metrics import confusion_matrix, accuracy_score\n",
    "\n",
    "# Define the independent and dependent variables\n",
    "X = df[['tenure', 'MonthlyCharges']]\n",
    "y = df['Churn']\n",
    "\n",
    "# Divide the dataset into training and testing sets in 80:20 ratio\n",
    "X_train, X_test, y_train, y_test = train_test_split(X, y, test_size=0.2, random_state=42)\n",
    "\n",
    "# Build the logistic regression model on training data\n",
    "logreg = LogisticRegression()\n",
    "logreg.fit(X_train, y_train)\n",
    "\n",
    "# Predict the values on test data\n",
    "y_pred = logreg.predict(X_test)\n",
    "\n",
    "# Build the confusion matrix and get the accuracy score\n",
    "conf_mat = confusion_matrix(y_test, y_pred)\n",
    "accuracy = accuracy_score(y_test, y_pred)\n",
    "\n",
    "print('Confusion Matrix:\\n', conf_mat)\n",
    "print('Accuracy Score:', accuracy)\n"
   ]
  },
  {
   "cell_type": "markdown",
   "id": "ba0ac8ba",
   "metadata": {},
   "source": [
    "## E) Decision Tree:"
   ]
  },
  {
   "cell_type": "code",
   "execution_count": null,
   "id": "fe8573af",
   "metadata": {},
   "outputs": [],
   "source": [
    "# a. Build a decision tree model where dependent variable is ‘Churn’ & independent\n",
    "# variable is ‘tenure’\n",
    "# i. Divide the dataset in 80:20 ratio\n",
    "# ii. Build the model on train set and predict the values on test set\n",
    "# iii. Build the confusion matrix and calculate the accuracy"
   ]
  },
  {
   "cell_type": "code",
   "execution_count": 83,
   "id": "0ca9b5db",
   "metadata": {},
   "outputs": [
    {
     "name": "stdout",
     "output_type": "stream",
     "text": [
      "Accuracy:  0.7572746628814763\n",
      "Confusion Matrix:\n",
      " [[951  85]\n",
      " [257 116]]\n"
     ]
    }
   ],
   "source": [
    "# Import required libraries\n",
    "import pandas as pd\n",
    "from sklearn.tree import DecisionTreeClassifier\n",
    "from sklearn.model_selection import train_test_split\n",
    "from sklearn.metrics import accuracy_score, confusion_matrix\n",
    "\n",
    "# Define the dependent and independent variables\n",
    "X = df[['tenure']]\n",
    "y = df['Churn']\n",
    "\n",
    "# Split the data into training and testing sets\n",
    "X_train, X_test, y_train, y_test = train_test_split(X, y, test_size=0.2, random_state=42)\n",
    "\n",
    "# Define the decision tree model\n",
    "dt = DecisionTreeClassifier()\n",
    "\n",
    "# Train the model on the training data\n",
    "dt.fit(X_train, y_train)\n",
    "\n",
    "# Predict the values for the testing data\n",
    "y_pred = dt.predict(X_test)\n",
    "\n",
    "# Calculate the accuracy of the model\n",
    "accuracy = accuracy_score(y_test, y_pred)\n",
    "print(\"Accuracy: \", accuracy)\n",
    "\n",
    "# Create the confusion matrix\n",
    "conf_matrix = confusion_matrix(y_test, y_pred)\n",
    "print(\"Confusion Matrix:\\n\", conf_matrix)\n"
   ]
  },
  {
   "cell_type": "markdown",
   "id": "a78ccf69",
   "metadata": {},
   "source": [
    "## F) Random Forest:"
   ]
  },
  {
   "cell_type": "code",
   "execution_count": 84,
   "id": "44322411",
   "metadata": {},
   "outputs": [],
   "source": [
    "# a. Build a Random Forest model where dependent variable is ‘Churn’ & independent\n",
    "# variables are ‘tenure’ and ‘MonthlyCharges’\n",
    "# i. Divide the dataset in 70:30 ratio\n",
    "# ii. Build the model on train set and predict the values on test set\n",
    "# iii. Build the confusion matrix and calculate the accuracy"
   ]
  },
  {
   "cell_type": "code",
   "execution_count": 85,
   "id": "d31f418f",
   "metadata": {},
   "outputs": [
    {
     "name": "stdout",
     "output_type": "stream",
     "text": [
      "Confusion Matrix:\n",
      " [[1341  198]\n",
      " [ 308  266]]\n",
      "Accuracy Score: 0.7605300520586843\n"
     ]
    }
   ],
   "source": [
    "# Importing necessary libraries\n",
    "from sklearn.ensemble import RandomForestClassifier\n",
    "\n",
    "# Selecting independent variables\n",
    "X = df[['tenure', 'MonthlyCharges']]\n",
    "\n",
    "# Selecting dependent variable\n",
    "y = df['Churn']\n",
    "\n",
    "# Splitting the dataset into training and testing sets\n",
    "X_train, X_test, y_train, y_test = train_test_split(X, y, test_size=0.3, random_state=42)\n",
    "\n",
    "# Creating a Random Forest classifier with 100 trees\n",
    "rfc = RandomForestClassifier(n_estimators=100, random_state=42)\n",
    "\n",
    "# Fitting the model on the training set\n",
    "rfc.fit(X_train, y_train)\n",
    "\n",
    "# Predicting the values for test set\n",
    "y_pred = rfc.predict(X_test)\n",
    "\n",
    "# Building the confusion matrix\n",
    "cm = confusion_matrix(y_test, y_pred)\n",
    "print('Confusion Matrix:\\n', cm)\n",
    "\n",
    "# Calculating the accuracy score\n",
    "acc = accuracy_score(y_test, y_pred)\n",
    "print('Accuracy Score:', acc)\n"
   ]
  }
 ],
 "metadata": {
  "kernelspec": {
   "display_name": "Python 3 (ipykernel)",
   "language": "python",
   "name": "python3"
  },
  "language_info": {
   "codemirror_mode": {
    "name": "ipython",
    "version": 3
   },
   "file_extension": ".py",
   "mimetype": "text/x-python",
   "name": "python",
   "nbconvert_exporter": "python",
   "pygments_lexer": "ipython3",
   "version": "3.9.12"
  }
 },
 "nbformat": 4,
 "nbformat_minor": 5
}
